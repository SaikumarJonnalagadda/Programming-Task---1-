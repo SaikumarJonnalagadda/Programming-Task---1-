{
  "nbformat": 4,
  "nbformat_minor": 0,
  "metadata": {
    "colab": {
      "provenance": []
    },
    "kernelspec": {
      "name": "python3",
      "display_name": "Python 3"
    },
    "language_info": {
      "name": "python"
    }
  },
  "cells": [
    {
      "cell_type": "code",
      "execution_count": null,
      "metadata": {
        "id": "FAqiKmM0Hr2X"
      },
      "outputs": [],
      "source": [
        "class Solution:\n",
        "    def kidsWithCandies(self, candies: List[int], extraCandies: int) -> List[bool]:\n",
        "        m=max(candies)\n",
        "        l=[]\n",
        "        for i in candies:\n",
        "            if i+extraCandies>=m:\n",
        "                l.append(True)\n",
        "            else:\n",
        "                l.append(False)\n",
        "        print(l)\n",
        "        \n",
        "        return l\n",
        "\n"
      ]
    }
  ]
}